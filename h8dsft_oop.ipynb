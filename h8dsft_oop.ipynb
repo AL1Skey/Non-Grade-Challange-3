{
 "cells": [
  {
   "cell_type": "markdown",
   "metadata": {},
   "source": [
    "Nama: Adam Nur Ramadan\n",
    "\n",
    "Batch: FTDS-010"
   ]
  },
  {
   "cell_type": "markdown",
   "metadata": {},
   "source": [
    "# Task"
   ]
  },
  {
   "cell_type": "code",
   "execution_count": 28,
   "metadata": {},
   "outputs": [
    {
     "name": "stdout",
     "output_type": "stream",
     "text": [
      "Catalog is empty\n",
      "Book with title  TWGOK  has been added\n",
      "[{'uuid': UUID('0c6942a0-8315-459c-a5f7-0b2f3a19ffb8'), 'title': 'TWGOK', 'author': 'Anon'}]\n",
      "Book with title  TWGOK  deleted successfully\n",
      "Catalog is empty\n"
     ]
    }
   ],
   "source": [
    "import uuid\n",
    "\n",
    "class BookCatalog:\n",
    "    __book = [\"uuid\",\"title\",\"author\"]\n",
    "    __catalog = []\n",
    "    \n",
    "    def __init__(self):\n",
    "        pass\n",
    "    \n",
    "    def isEmpty(self):\n",
    "        return not len(self.__catalog)\n",
    "    \n",
    "    def addBook(self,title,author):\n",
    "        id = uuid.uuid4()\n",
    "        bookname = title\n",
    "        theAuthor = author\n",
    "        catalog = {\"uuid\":id,\"title\":title,\"author\":author}\n",
    "        self.__catalog.append(catalog)\n",
    "        print(\"Book with title \", title,\" has been added\")\n",
    "    def searchBook(self,title):\n",
    "        if self.isEmpty():\n",
    "            print(\"Catalog is empty\")\n",
    "            return\n",
    "        for i in self.__catalog:\n",
    "            if i[\"title\"] == title:\n",
    "                print(\"Book found\")\n",
    "                print(i)\n",
    "                break\n",
    "    def removeBook(self,title):\n",
    "        if self.isEmpty():\n",
    "            print(\"Catalog is empty\")\n",
    "            return\n",
    "        counter = 0\n",
    "        for i in self.__catalog:\n",
    "            if i[\"title\"] == title:\n",
    "                del self.__catalog[counter]\n",
    "                print(\"Book with title \", i[\"title\"],\" deleted successfully\")\n",
    "                break\n",
    "            counter+=1\n",
    "    def showAll(self):\n",
    "        if self.isEmpty():\n",
    "            print(\"Catalog is empty\")\n",
    "            return\n",
    "        print(self.__catalog)\n",
    "\n",
    "the = BookCatalog()\n",
    "\n",
    "the.showAll()\n",
    "the.addBook(title=\"TWGOK\", author=\"Anon\")\n",
    "the.showAll()\n",
    "the.removeBook(title=\"TWGOK\")\n",
    "the.showAll()\n",
    "\n"
   ]
  }
 ],
 "metadata": {
  "kernelspec": {
   "display_name": "base",
   "language": "python",
   "name": "python3"
  },
  "language_info": {
   "codemirror_mode": {
    "name": "ipython",
    "version": 3
   },
   "file_extension": ".py",
   "mimetype": "text/x-python",
   "name": "python",
   "nbconvert_exporter": "python",
   "pygments_lexer": "ipython3",
   "version": "3.11.4"
  }
 },
 "nbformat": 4,
 "nbformat_minor": 2
}
