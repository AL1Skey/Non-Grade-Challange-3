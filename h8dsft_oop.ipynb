{
 "cells": [
  {
   "cell_type": "markdown",
   "metadata": {},
   "source": [
    "Nama: Adam Nur Ramadan\n",
    "\n",
    "Batch: FTDS-010"
   ]
  },
  {
   "cell_type": "markdown",
   "metadata": {},
   "source": [
    "# Task"
   ]
  },
  {
   "cell_type": "code",
   "execution_count": 27,
   "metadata": {},
   "outputs": [
    {
     "name": "stdout",
     "output_type": "stream",
     "text": [
      "Catalog is empty\n",
      "Book with title  TWGOK  has been added\n",
      "[{'uuid': UUID('ac719338-bd40-48d1-8f20-e4436b2d83ae'), 'title': 'TWGOK', 'author': 'Anon'}]\n"
     ]
    }
   ],
   "source": [
    "import uuid\n",
    "\n",
    "class BookCatalog:\n",
    "    __book = [\"uuid\",\"title\",\"author\"]\n",
    "    __catalog = []\n",
    "    \n",
    "    def __init__(self):\n",
    "        pass\n",
    "    \n",
    "    def isEmpty(self):\n",
    "        return not len(self.__catalog)\n",
    "    \n",
    "    def addBook(self,title,author):\n",
    "        id = uuid.uuid4()\n",
    "        bookname = title\n",
    "        theAuthor = author\n",
    "        catalog = {\"uuid\":id,\"title\":title,\"author\":author}\n",
    "        self.__catalog.append(catalog)\n",
    "        print(\"Book with title \", title,\" has been added\")\n",
    "    def searchBook(self,title):\n",
    "        if self.isEmpty():\n",
    "            print(\"Catalog is empty\")\n",
    "            return\n",
    "        for i in self.__catalog:\n",
    "            if i[\"title\"] == title:\n",
    "                print(\"Book found\")\n",
    "                print(i)\n",
    "                break\n",
    "    def removeBook(self,title):\n",
    "        if self.isEmpty():\n",
    "            print(\"Catalog is empty\")\n",
    "            return\n",
    "        counter = 0\n",
    "        for i in self.__catalog:\n",
    "            if i[\"title\"] == title:\n",
    "                del self.__catalog[counter]\n",
    "                print(\"Book with title \", i[\"title\"],\" deleted successfully\")\n",
    "                break\n",
    "            counter+=1\n",
    "    def showAll(self):\n",
    "        if self.isEmpty():\n",
    "            print(\"Catalog is empty\")\n",
    "            return\n",
    "        print(self.__catalog)\n",
    "\n",
    "the = BookCatalog()\n",
    "\n",
    "the.showAll()\n",
    "the.addBook(title=\"TWGOK\", author=\"Anon\")\n",
    "the.showAll()\n",
    "\n"
   ]
  },
  {
   "cell_type": "code",
   "execution_count": 13,
   "metadata": {},
   "outputs": [
    {
     "name": "stdout",
     "output_type": "stream",
     "text": [
      "[1, 3, 5, 6, 78]\n",
      "[1, 3, 5, 6]\n",
      "False\n"
     ]
    }
   ],
   "source": [
    "a =[{\"a\":3}]\n",
    "c = [1]\n",
    "b = [1,3,5,6,78]\n",
    "\n",
    "a[0][\"a\"]\n",
    "print(b)\n",
    "del b[4]\n",
    "print(b)\n",
    "\n",
    "print(not len(c))"
   ]
  },
  {
   "cell_type": "code",
   "execution_count": null,
   "metadata": {},
   "outputs": [],
   "source": []
  }
 ],
 "metadata": {
  "kernelspec": {
   "display_name": "base",
   "language": "python",
   "name": "python3"
  },
  "language_info": {
   "codemirror_mode": {
    "name": "ipython",
    "version": 3
   },
   "file_extension": ".py",
   "mimetype": "text/x-python",
   "name": "python",
   "nbconvert_exporter": "python",
   "pygments_lexer": "ipython3",
   "version": "3.11.4"
  }
 },
 "nbformat": 4,
 "nbformat_minor": 2
}
